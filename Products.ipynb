{
  "nbformat": 4,
  "nbformat_minor": 0,
  "metadata": {
    "colab": {
      "name": "Products.ipynb",
      "provenance": [],
      "authorship_tag": "ABX9TyPcWSbdCAA/+7U1dHoOQzf2",
      "include_colab_link": true
    },
    "kernelspec": {
      "name": "python3",
      "display_name": "Python 3"
    },
    "language_info": {
      "name": "python"
    }
  },
  "cells": [
    {
      "cell_type": "markdown",
      "metadata": {
        "id": "view-in-github",
        "colab_type": "text"
      },
      "source": [
        "<a href=\"https://colab.research.google.com/github/divediamic530/Inventory-Management-ETG-/blob/main/Products.ipynb\" target=\"_parent\"><img src=\"https://colab.research.google.com/assets/colab-badge.svg\" alt=\"Open In Colab\"/></a>"
      ]
    },
    {
      "cell_type": "code",
      "metadata": {
        "id": "Wl1pA6dTg29b"
      },
      "source": [
        "import json"
      ],
      "execution_count": null,
      "outputs": []
    },
    {
      "cell_type": "code",
      "metadata": {
        "id": "paAnTm2thRwh"
      },
      "source": [
        "\n",
        "fd= open(\"record.json\",'r')\n",
        "record_data = fd.read()\n",
        "fd.close()\n",
        "record= json.loads(record_data)"
      ],
      "execution_count": 11,
      "outputs": []
    },
    {
      "cell_type": "code",
      "metadata": {
        "colab": {
          "base_uri": "https://localhost:8080/"
        },
        "id": "hOi-_wCqjrWp",
        "outputId": "c569d366-7f95-42f4-a65e-64e517f4c5e1"
      },
      "source": [
        "\n",
        "record"
      ],
      "execution_count": 12,
      "outputs": [
        {
          "output_type": "execute_result",
          "data": {
            "text/plain": [
              "{'10001': {'exp': '06-03-2022',\n",
              "  'name': 'Amul Milk',\n",
              "  'pr': 60,\n",
              "  'prodt': 'Food',\n",
              "  'qn': 115},\n",
              " '10002': {'exp': '01-09-2022',\n",
              "  'name': 'Tata Salt',\n",
              "  'pr': 18,\n",
              "  'prodt': 'Food',\n",
              "  'qn': 20},\n",
              " '10003': {'exp': '06-06-2022',\n",
              "  'name': 'Amul Butter',\n",
              "  'pr': 230,\n",
              "  'prodt': 'Food',\n",
              "  'qn': 30},\n",
              " '10004': {'exp': '06-06-2022',\n",
              "  'name': 'Duracell Aaa Batteries',\n",
              "  'pr': 148,\n",
              "  'prodt': 'Appliances',\n",
              "  'qn': 50},\n",
              " '10005': {'exp': '06-06-2024',\n",
              "  'name': 'Usha Dry Iron',\n",
              "  'pr': 899,\n",
              "  'prodt': 'Appliances',\n",
              "  'qn': 8},\n",
              " '10006': {'exp': '07-09-2024',\n",
              "  'name': 'Modular Trio 2pin',\n",
              "  'pr': 362,\n",
              "  'prodt': 'Appliances',\n",
              "  'qn': 13},\n",
              " '10007': {'exp': '01-05-2023',\n",
              "  'name': 'Philips bulb',\n",
              "  'pr': 349,\n",
              "  'prodt': 'Electronic',\n",
              "  'qn': 90},\n",
              " '10008': {'exp': '01-04-2022',\n",
              "  'name': 'Cheese Grater',\n",
              "  'pr': 47,\n",
              "  'prodt': 'Kitchen',\n",
              "  'qn': 10},\n",
              " '10009': {'exp': '01-05-2022',\n",
              "  'name': 'Tea Stainer',\n",
              "  'pr': 55,\n",
              "  'prodt': 'Kitchen',\n",
              "  'qn': 10},\n",
              " '10010': {'exp': '01-09-2023',\n",
              "  'name': 'Fruit Knife',\n",
              "  'pr': 80,\n",
              "  'prodt': 'Kitchen',\n",
              "  'qn': 10},\n",
              " '10011': {'exp': '01-04-2023',\n",
              "  'name': 'Steel Forks',\n",
              "  'pr': 150,\n",
              "  'prodt': 'Kitchen',\n",
              "  'qn': 300},\n",
              " '10012': {'exp': '01-04-2023',\n",
              "  'name': 'Steel Spoons',\n",
              "  'pr': 150,\n",
              "  'prodt': 'Kitchen',\n",
              "  'qn': 300},\n",
              " '10013': {'exp': '15-03-2023',\n",
              "  'name': 'Sponge Scrub',\n",
              "  'pr': 65,\n",
              "  'prodt': 'Kitchen',\n",
              "  'qn': 200},\n",
              " '10014': {'exp': '01-02-2022',\n",
              "  'name': 'Swash Card',\n",
              "  'pr': 18,\n",
              "  'prodt': 'Kitchen',\n",
              "  'qn': 150},\n",
              " '10015': {'exp': '01-12-2022',\n",
              "  'name': 'Steel Scrub',\n",
              "  'pr': 40,\n",
              "  'prodt': 'Kitchen',\n",
              "  'qn': 30},\n",
              " '10016': {'exp': '01-01-2023',\n",
              "  'name': 'Broom',\n",
              "  'pr': 150,\n",
              "  'prodt': 'HomeUtilities',\n",
              "  'qn': 10},\n",
              " '10017': {'exp': '01-12-2023',\n",
              "  'name': 'Fry Pan',\n",
              "  'pr': 800,\n",
              "  'prodt': 'Kitchen',\n",
              "  'qn': 10},\n",
              " '10018': {'exp': '20-09-2021',\n",
              "  'name': 'Bread',\n",
              "  'pr': 30,\n",
              "  'prodt': 'Food',\n",
              "  'qn': 9},\n",
              " '10019': {'exp': '20-09-2021',\n",
              "  'name': 'Eggs',\n",
              "  'pr': 20,\n",
              "  'prodt': 'Food',\n",
              "  'qn': 900},\n",
              " '10020': {'exp': '30-09-2021',\n",
              "  'name': 'Curd',\n",
              "  'pr': 90,\n",
              "  'prodt': 'Food',\n",
              "  'qn': 20},\n",
              " '10021': {'exp': '10-10-2021',\n",
              "  'name': 'Dosa Batter',\n",
              "  'pr': 130,\n",
              "  'prodt': 'Food',\n",
              "  'qn': 15},\n",
              " '10022': {'exp': '01-05-2022',\n",
              "  'name': 'Amul Ghee',\n",
              "  'pr': 350,\n",
              "  'prodt': 'Food',\n",
              "  'qn': 20},\n",
              " '10023': {'exp': '01-12-2021',\n",
              "  'name': 'Red label Tea',\n",
              "  'pr': 275,\n",
              "  'prodt': 'Food',\n",
              "  'qn': 30},\n",
              " '10024': {'exp': '01-11-2022',\n",
              "  'name': 'Nescafe Coffee',\n",
              "  'pr': 130,\n",
              "  'prodt': 'Food',\n",
              "  'qn': 40},\n",
              " '10026': {'exp': '01-08-2022',\n",
              "  'name': 'Sprite',\n",
              "  'pr': 70,\n",
              "  'prodt': 'Drinks',\n",
              "  'qn': 30},\n",
              " '10027': {'exp': '01-04-2022',\n",
              "  'name': 'Hersheys Chocolate',\n",
              "  'pr': 210,\n",
              "  'prodt': 'Drinks',\n",
              "  'qn': 20},\n",
              " '10028': {'exp': '01-03-2022',\n",
              "  'name': 'Toast',\n",
              "  'pr': 30,\n",
              "  'prodt': 'Food',\n",
              "  'qn': 40},\n",
              " '10029': {'exp': '01-01-2022',\n",
              "  'name': 'Kissan Ketchup',\n",
              "  'pr': 84,\n",
              "  'prodt': 'Food',\n",
              "  'qn': 45},\n",
              " '10030': {'exp': '01-05-2022',\n",
              "  'name': 'Maggie',\n",
              "  'pr': 90,\n",
              "  'prodt': 'Food',\n",
              "  'qn': 25},\n",
              " '10031': {'exp': '01-10-2021',\n",
              "  'name': 'Fruit Cake',\n",
              "  'pr': 150,\n",
              "  'prodt': 'Food',\n",
              "  'qn': 10},\n",
              " '10032': {'exp': '01-10-2021',\n",
              "  'name': 'Chocolate Cake',\n",
              "  'pr': 150,\n",
              "  'prodt': 'Food',\n",
              "  'qn': 20},\n",
              " '10033': {'exp': '01-11-2022',\n",
              "  'name': 'Hide and Seek',\n",
              "  'pr': 35,\n",
              "  'prodt': 'Biscuits',\n",
              "  'qn': 40},\n",
              " '10034': {'exp': '01-12-2022',\n",
              "  'name': 'Good Day',\n",
              "  'pr': 35,\n",
              "  'prodt': 'Biscuits',\n",
              "  'qn': 40},\n",
              " '10035': {'exp': '01-01-2023',\n",
              "  'name': 'Black Pepper',\n",
              "  'pr': 105,\n",
              "  'prodt': 'Food',\n",
              "  'qn': 50},\n",
              " '10036': {'exp': '20-09-2022',\n",
              "  'name': 'Apple',\n",
              "  'pr': 150,\n",
              "  'prodt': 'Fruits',\n",
              "  'qn': 48},\n",
              " '10037': {'exp': '20-09-2021',\n",
              "  'name': 'Peru',\n",
              "  'pr': 45,\n",
              "  'prodt': 'Fruits',\n",
              "  'qn': 40},\n",
              " '10038': {'exp': '01-10-2021',\n",
              "  'name': 'Coconut',\n",
              "  'pr': 30,\n",
              "  'prodt': 'Fruits',\n",
              "  'qn': 5},\n",
              " '10039': {'exp': '15-09-2021',\n",
              "  'name': 'Banana',\n",
              "  'pr': 60,\n",
              "  'prodt': 'Fruits',\n",
              "  'qn': 120}}"
            ]
          },
          "metadata": {},
          "execution_count": 12
        }
      ]
    },
    {
      "cell_type": "code",
      "metadata": {
        "colab": {
          "base_uri": "https://localhost:8080/"
        },
        "id": "haiTm6MCleDN",
        "outputId": "4453f855-8128-4523-ecc6-67585411880e"
      },
      "source": [
        "while True:\n",
        "  prod_id = str(input(\"Enter product id:\"))\n",
        "  name = str(input(\"Enter name:\"))\n",
        "  prod_type = str(input(\"Enter Prouct Category:\"))\n",
        "  pr = int(input(\"Enter Price:\"))\n",
        "  qn = int(input(\"Enter Quantity:\"))\n",
        "  exp = str(input(\"Enter Expiry Date:\"))\n",
        "  if prod_id in record:\n",
        "    print(prod_id+ \" has \" + record[prod_id][qn])\n",
        "    ch1 = intput(\"Do you want to append the quantity Y/N\")\n",
        "    if ch1 == 'Y':\n",
        "      qn = int(record[prod_id][qn]) + int(qn)\n",
        "  record[prod_id] = {'name': name,\n",
        "                     'pr': int(pr),\n",
        "                     'prodt': prod_type,\n",
        "                     'qn': int(qn),\n",
        "                     'exp':exp}\n",
        "  ch = input(\"Do you want to add more records Y/N: \")\n",
        "  if ch == 'N':\n",
        "    break\n",
        "  else:\n",
        "    continue"
      ],
      "execution_count": 14,
      "outputs": [
        {
          "name": "stdout",
          "output_type": "stream",
          "text": [
            "Enter product id:1040\n",
            "Enter name:Silk\n",
            "Enter Prouct Category:Food\n",
            "Enter Price:85\n",
            "Enter Quantity:85\n",
            "Enter Expiry Date:01-01-2022\n",
            "Do you want to add more records Y/N: N\n"
          ]
        }
      ]
    },
    {
      "cell_type": "code",
      "metadata": {
        "colab": {
          "base_uri": "https://localhost:8080/"
        },
        "id": "JDPwAZd4mdMU",
        "outputId": "33b4d93c-d0e8-4a08-8a27-b682dc081961"
      },
      "source": [
        "while True:\n",
        "  prod_id = input(\"Enter product id you want to remove:\")\n",
        "  if prod_id in record:\n",
        "    del record[prod_id]\n",
        "  else:\n",
        "    print(\"Product doesnt exist or is already removed\")\n",
        "  ch2 = input(\"Do you want to delete more records Y/N :\")\n",
        "  if ch2 == 'N':\n",
        "    break\n",
        "  else:\n",
        "    continue"
      ],
      "execution_count": 15,
      "outputs": [
        {
          "name": "stdout",
          "output_type": "stream",
          "text": [
            "Enter product id you want to remove:1040\n",
            "Do you want to delete more records Y/N :N\n"
          ]
        }
      ]
    },
    {
      "cell_type": "code",
      "metadata": {
        "id": "oKk3D63-my8b"
      },
      "source": [
        "js = json.dumps(record)\n",
        "fd = open(\"record.json\",'w')\n",
        "fd.write(js)\n",
        "fd.close()"
      ],
      "execution_count": 16,
      "outputs": []
    }
  ]
}