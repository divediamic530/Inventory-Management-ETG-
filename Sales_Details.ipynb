{
  "nbformat": 4,
  "nbformat_minor": 0,
  "metadata": {
    "colab": {
      "name": "Sales_Details.ipynb",
      "provenance": [],
      "authorship_tag": "ABX9TyNlhoFbeJ/iPZNB2vW67IZI",
      "include_colab_link": true
    },
    "kernelspec": {
      "name": "python3",
      "display_name": "Python 3"
    },
    "language_info": {
      "name": "python"
    }
  },
  "cells": [
    {
      "cell_type": "markdown",
      "metadata": {
        "id": "view-in-github",
        "colab_type": "text"
      },
      "source": [
        "<a href=\"https://colab.research.google.com/github/divediamic530/Inventory-Management-ETG-/blob/main/Sales_Details.ipynb\" target=\"_parent\"><img src=\"https://colab.research.google.com/assets/colab-badge.svg\" alt=\"Open In Colab\"/></a>"
      ]
    },
    {
      "cell_type": "code",
      "metadata": {
        "id": "Wl1pA6dTg29b"
      },
      "source": [
        "import json"
      ],
      "execution_count": null,
      "outputs": []
    },
    {
      "cell_type": "code",
      "metadata": {
        "colab": {
          "base_uri": "https://localhost:8080/"
        },
        "id": "paAnTm2thRwh",
        "outputId": "adec78a6-8108-439e-c91a-b8785e87b382"
      },
      "source": [
        "import json\n",
        "from datetime import datetime\n",
        "#importing records from record.json\n",
        "fd = open(\"sales.json\",'r')\n",
        "s = fd.read()\n",
        "fd.close()\n",
        "#initialization of purchase dictionary  and loading data in record dictionary \n",
        "sales = json.loads(s)\n",
        "#showing the records available \n",
        "print('All Transaction:')\n",
        "sales"
      ],
      "execution_count": 33,
      "outputs": [
        {
          "output_type": "stream",
          "name": "stdout",
          "text": [
            "All Transaction:\n"
          ]
        },
        {
          "output_type": "execute_result",
          "data": {
            "text/plain": [
              "{'T210806121253': {'Bill_id': 'Bill210806121203',\n",
              "  'amount': 90,\n",
              "  'cust_name': 'Xavi',\n",
              "  'date': '06/08/2021 12:12',\n",
              "  'pr': 30,\n",
              "  'prod_id': '10038',\n",
              "  'prod_name': 'Coconut',\n",
              "  'prodt': 'Fruits',\n",
              "  'qn': 3},\n",
              " 'T210905121241': {'Bill_id': 'Bill210905121203',\n",
              "  'amount': 300,\n",
              "  'cust_name': 'Bruce',\n",
              "  'date': '05/09/2021 12:12',\n",
              "  'pr': 150,\n",
              "  'prod_id': '10036',\n",
              "  'prod_name': 'Apple',\n",
              "  'prodt': 'Fruits',\n",
              "  'qn': 2},\n",
              " 'T210906120635': {'Bill_id': 'Bill210906120600',\n",
              "  'amount': 899,\n",
              "  'cust_name': 'Aditya',\n",
              "  'date': '06/09/2021 12:06',\n",
              "  'pr': 899,\n",
              "  'prod_id': '10005',\n",
              "  'prod_name': 'Usha Iron',\n",
              "  'prodt': 'Appliances',\n",
              "  'qn': 1},\n",
              " 'T210906120656': {'Bill_id': 'Bill210906120600',\n",
              "  'amount': 60,\n",
              "  'cust_name': 'Aditya Divedi',\n",
              "  'date': '06/09/2021 12:06',\n",
              "  'pr': 30,\n",
              "  'prod_id': '10038',\n",
              "  'prod_name': 'Coconut',\n",
              "  'prodt': 'Fruits',\n",
              "  'qn': 2},\n",
              " 'T210906120754': {'Bill_id': 'Bill210906120600',\n",
              "  'amount': 180,\n",
              "  'cust_name': 'Modiji',\n",
              "  'date': '06/09/2021 12:07',\n",
              "  'pr': 60,\n",
              "  'prod_id': '10001',\n",
              "  'prod_name': 'Amul Milk',\n",
              "  'prodt': 'Food',\n",
              "  'qn': 3},\n",
              " 'T210906121210': {'Bill_id': 'Bill210906121203',\n",
              "  'amount': 450,\n",
              "  'cust_name': 'Iniesta',\n",
              "  'date': '06/09/2021 12:12',\n",
              "  'pr': 90,\n",
              "  'prod_id': '10030',\n",
              "  'prod_name': 'Maggie',\n",
              "  'prodt': 'Food',\n",
              "  'qn': 5},\n",
              " 'T210906121306': {'Bill_id': 'Bill210906121203',\n",
              "  'amount': 180,\n",
              "  'cust_name': 'Bruce',\n",
              "  'date': '06/09/2021 12:13',\n",
              "  'pr': 30,\n",
              "  'prod_id': '10018',\n",
              "  'prod_name': 'Bread',\n",
              "  'prodt': 'Food',\n",
              "  'qn': 6},\n",
              " 'T210906122847': {'Bill_id': 'Bill210906122637',\n",
              "  'amount': 1500,\n",
              "  'cust_name': 'Aditya',\n",
              "  'date': '06/09/2021 12:28',\n",
              "  'pr': 150,\n",
              "  'prod_id': '10031',\n",
              "  'prod_name': 'Fruit Cake',\n",
              "  'prodt': 'Food',\n",
              "  'qn': 10},\n",
              " 'T210906122900': {'Bill_id': 'Bill210906122637',\n",
              "  'amount': 120,\n",
              "  'cust_name': 'Aditya',\n",
              "  'date': '06/09/2021 12:29',\n",
              "  'pr': 60,\n",
              "  'prod_id': '10001',\n",
              "  'prod_name': 'Amul Milk',\n",
              "  'prodt': 'Food',\n",
              "  'qn': 2},\n",
              " 'T210906122907': {'Bill_id': 'Bill210906122637',\n",
              "  'amount': 899,\n",
              "  'cust_name': 'Paul Pogba',\n",
              "  'date': '06/09/2021 12:29',\n",
              "  'pr': 899,\n",
              "  'prod_id': '10005',\n",
              "  'prod_name': 'Usha Dry Iron',\n",
              "  'prodt': 'Appliances',\n",
              "  'qn': 1},\n",
              " 'T210906122921': {'Bill_id': 'Bill210906122637',\n",
              "  'amount': 724,\n",
              "  'cust_name': 'Messi',\n",
              "  'date': '06/09/2021 12:29',\n",
              "  'pr': 362,\n",
              "  'prod_id': '10006',\n",
              "  'prod_name': 'Trio 2pin',\n",
              "  'prodt': 'Appliances',\n",
              "  'qn': 2}}"
            ]
          },
          "metadata": {},
          "execution_count": 33
        }
      ]
    },
    {
      "cell_type": "code",
      "metadata": {
        "colab": {
          "base_uri": "https://localhost:8080/"
        },
        "id": "hOi-_wCqjrWp",
        "outputId": "c3da0274-0342-496f-f284-fd120fb8de49"
      },
      "source": [
        "mn = input(\"Enter Desired Month \")\n",
        "for key in sales:\n",
        "  if key[3:5] == mn:\n",
        "    print(sales[key])"
      ],
      "execution_count": 29,
      "outputs": [
        {
          "name": "stdout",
          "output_type": "stream",
          "text": [
            "Enter Desired Month 07\n"
          ]
        }
      ]
    },
    {
      "cell_type": "code",
      "metadata": {
        "colab": {
          "base_uri": "https://localhost:8080/"
        },
        "id": "haiTm6MCleDN",
        "outputId": "ef2690a8-7545-41d0-aa9d-5d1ded93308f"
      },
      "source": [
        "\n",
        "mn = input(\"Enter Date in 6 digits form you want to see transaction of YYMMDD : \")\n",
        "for key in sales:\n",
        "  if key[1:7] == mn:\n",
        "    print(sales[key])"
      ],
      "execution_count": 34,
      "outputs": [
        {
          "output_type": "stream",
          "name": "stdout",
          "text": [
            "Enter Date in 6 digits form you want to see transaction of YYMMDD : 210906\n",
            "{'Bill_id': 'Bill210906120600', 'prod_id': '10005', 'cust_name': 'Aditya', 'prod_name': 'Usha Iron', 'pr': 899, 'prodt': 'Appliances', 'qn': 1, 'date': '06/09/2021 12:06', 'amount': 899}\n",
            "{'Bill_id': 'Bill210906120600', 'prod_id': '10038', 'cust_name': 'Aditya Divedi', 'prod_name': 'Coconut', 'pr': 30, 'prodt': 'Fruits', 'qn': 2, 'date': '06/09/2021 12:06', 'amount': 60}\n",
            "{'Bill_id': 'Bill210906120600', 'prod_id': '10001', 'cust_name': 'Modiji', 'prod_name': 'Amul Milk', 'pr': 60, 'prodt': 'Food', 'qn': 3, 'date': '06/09/2021 12:07', 'amount': 180}\n",
            "{'Bill_id': 'Bill210906121203', 'prod_id': '10030', 'cust_name': 'Iniesta', 'prod_name': 'Maggie', 'pr': 90, 'prodt': 'Food', 'qn': 5, 'date': '06/09/2021 12:12', 'amount': 450}\n",
            "{'Bill_id': 'Bill210906121203', 'prod_id': '10018', 'cust_name': 'Bruce', 'prod_name': 'Bread', 'pr': 30, 'prodt': 'Food', 'qn': 6, 'date': '06/09/2021 12:13', 'amount': 180}\n",
            "{'Bill_id': 'Bill210906122637', 'prod_id': '10031', 'cust_name': 'Aditya', 'prod_name': 'Fruit Cake', 'pr': 150, 'prodt': 'Food', 'qn': 10, 'date': '06/09/2021 12:28', 'amount': 1500}\n",
            "{'Bill_id': 'Bill210906122637', 'prod_id': '10001', 'cust_name': 'Aditya', 'prod_name': 'Amul Milk', 'pr': 60, 'prodt': 'Food', 'qn': 2, 'date': '06/09/2021 12:29', 'amount': 120}\n",
            "{'Bill_id': 'Bill210906122637', 'prod_id': '10005', 'cust_name': 'Paul Pogba', 'prod_name': 'Usha Dry Iron', 'pr': 899, 'prodt': 'Appliances', 'qn': 1, 'date': '06/09/2021 12:29', 'amount': 899}\n",
            "{'Bill_id': 'Bill210906122637', 'prod_id': '10006', 'cust_name': 'Messi', 'prod_name': 'Trio 2pin', 'pr': 362, 'prodt': 'Appliances', 'qn': 2, 'date': '06/09/2021 12:29', 'amount': 724}\n"
          ]
        }
      ]
    },
    {
      "cell_type": "code",
      "metadata": {
        "colab": {
          "base_uri": "https://localhost:8080/"
        },
        "id": "JDPwAZd4mdMU",
        "outputId": "22400474-fa4a-47da-b8e5-3e16949fd23d"
      },
      "source": [
        "\n",
        "name = input(\"Enter name you want to see transactions of: \")\n",
        "for key in sales:\n",
        "  if str(sales[key]['cust_name']) == name:\n",
        "    print(sales[key])"
      ],
      "execution_count": 35,
      "outputs": [
        {
          "output_type": "stream",
          "name": "stdout",
          "text": [
            "Enter name you want to see transactions of: Messi\n",
            "{'Bill_id': 'Bill210906122637', 'prod_id': '10006', 'cust_name': 'Messi', 'prod_name': 'Trio 2pin', 'pr': 362, 'prodt': 'Appliances', 'qn': 2, 'date': '06/09/2021 12:29', 'amount': 724}\n"
          ]
        }
      ]
    },
    {
      "cell_type": "code",
      "metadata": {
        "colab": {
          "base_uri": "https://localhost:8080/"
        },
        "id": "oKk3D63-my8b",
        "outputId": "672b5f14-b757-4849-ee59-bc3058280f21"
      },
      "source": [
        "category = input(\"Enter Category You Want To visit: \")\n",
        "for key in sales:\n",
        "  if str(sales[key]['prodt']) == category:\n",
        "    print(sales[key])"
      ],
      "execution_count": 40,
      "outputs": [
        {
          "output_type": "stream",
          "name": "stdout",
          "text": [
            "Enter Category You Want To visit: Food\n",
            "{'Bill_id': 'Bill210906120600', 'prod_id': '10001', 'cust_name': 'Modiji', 'prod_name': 'Amul Milk', 'pr': 60, 'prodt': 'Food', 'qn': 3, 'date': '06/09/2021 12:07', 'amount': 180}\n",
            "{'Bill_id': 'Bill210906121203', 'prod_id': '10030', 'cust_name': 'Iniesta', 'prod_name': 'Maggie', 'pr': 90, 'prodt': 'Food', 'qn': 5, 'date': '06/09/2021 12:12', 'amount': 450}\n",
            "{'Bill_id': 'Bill210906121203', 'prod_id': '10018', 'cust_name': 'Bruce', 'prod_name': 'Bread', 'pr': 30, 'prodt': 'Food', 'qn': 6, 'date': '06/09/2021 12:13', 'amount': 180}\n",
            "{'Bill_id': 'Bill210906122637', 'prod_id': '10031', 'cust_name': 'Aditya', 'prod_name': 'Fruit Cake', 'pr': 150, 'prodt': 'Food', 'qn': 10, 'date': '06/09/2021 12:28', 'amount': 1500}\n",
            "{'Bill_id': 'Bill210906122637', 'prod_id': '10001', 'cust_name': 'Aditya', 'prod_name': 'Amul Milk', 'pr': 60, 'prodt': 'Food', 'qn': 2, 'date': '06/09/2021 12:29', 'amount': 120}\n"
          ]
        }
      ]
    }
  ]
}